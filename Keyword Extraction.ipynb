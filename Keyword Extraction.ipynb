{
 "cells": [
  {
   "cell_type": "markdown",
   "metadata": {},
   "source": [
    "# Keyword Extraction Assignment"
   ]
  },
  {
   "cell_type": "markdown",
   "metadata": {},
   "source": [
    "**Problem Statement** - Write a code to extract the keywords (like Inheritance, encapsulation, multithreading) from the document.\n",
    "<br>\n",
    "<br>\n",
    "**Document** - JavaBasics-notes.pdf"
   ]
  },
  {
   "cell_type": "markdown",
   "metadata": {},
   "source": [
    "## Libraries Used"
   ]
  },
  {
   "cell_type": "code",
   "execution_count": 30,
   "metadata": {},
   "outputs": [],
   "source": [
    "#!pip install pdfminer.six\n",
    "#!pip install numpy\n",
    "#!pip install pandas\n",
    "#!pip install nltk"
   ]
  },
  {
   "cell_type": "code",
   "execution_count": 31,
   "metadata": {},
   "outputs": [],
   "source": [
    "# Array Operations\n",
    "import numpy as np\n",
    "# For dataframe\n",
    "import pandas as pd\n",
    "\n",
    "# For English Stopwords\n",
    "import nltk\n",
    "from nltk.corpus import stopwords\n",
    "from nltk.tokenize import word_tokenize\n",
    "# For Tf-idf Weighting\n",
    "from sklearn.feature_extraction.text import TfidfVectorizer\n",
    "\n",
    "# For Regular Expressions\n",
    "import re"
   ]
  },
  {
   "cell_type": "markdown",
   "metadata": {},
   "source": [
    "## Reading Document"
   ]
  },
  {
   "cell_type": "code",
   "execution_count": 32,
   "metadata": {
    "collapsed": true
   },
   "outputs": [],
   "source": [
    "from pdfminer.pdfinterp import PDFResourceManager, PDFPageInterpreter#process_pdf\n",
    "from pdfminer.pdfpage import PDFPage\n",
    "from pdfminer.converter import TextConverter\n",
    "from pdfminer.layout import LAParams\n",
    "\n",
    "from io import StringIO\n",
    "\n",
    "def pdf_to_text(pdfname):\n",
    "\n",
    "    # PDFMiner boilerplate\n",
    "    rsrcmgr = PDFResourceManager()\n",
    "    sio = StringIO()\n",
    "    codec = 'utf-8'\n",
    "    laparams = LAParams()\n",
    "    device = TextConverter(rsrcmgr, sio, codec=codec, laparams=laparams)\n",
    "    interpreter = PDFPageInterpreter(rsrcmgr, device)\n",
    "\n",
    "    # Extract text\n",
    "    fp = open(pdfname, 'rb')\n",
    "    for page in PDFPage.get_pages(fp):\n",
    "        interpreter.process_page(page)\n",
    "    fp.close()\n",
    "\n",
    "    # Get text from StringIO\n",
    "    text = sio.getvalue()\n",
    "\n",
    "    # Cleanup\n",
    "    device.close()\n",
    "    sio.close()\n",
    "\n",
    "    return text"
   ]
  },
  {
   "cell_type": "code",
   "execution_count": 33,
   "metadata": {},
   "outputs": [],
   "source": [
    "extracted_text = pdf_to_text(\"JavaBasics-notes.pdf\")"
   ]
  },
  {
   "cell_type": "markdown",
   "metadata": {},
   "source": [
    "### Example"
   ]
  },
  {
   "cell_type": "code",
   "execution_count": 34,
   "metadata": {},
   "outputs": [
    {
     "name": "stdout",
     "output_type": "stream",
     "text": [
      "Java Basics\n",
      "\n",
      "Java Basics\n",
      "\n",
      "Topics in this section include:\n",
      "\n",
      "•  What makes Java programs portable, secure, and robust\n",
      "\n",
      "•  The structure of Java applets and applications\n",
      "\n",
      "•  How Java applications are executed\n",
      "\n",
      "•  How applets are invoked and executed\n",
      "\n",
      "•  The Java Language, Part I\n",
      "\n",
      "•  Comments\n",
      "\n",
      "•  Declarations\n",
      "\n",
      "•  Expressions\n",
      "\n",
      "•  Statements\n",
      "\n",
      "•  Garbage collection\n",
      "\n",
      "•  Java Semantics\n",
      "\n",
      "Portability\n",
      "\n",
      "Java programs are portable across operating systems and hardware environments.\n",
      "Portability is to your advantage because:\n",
      "\n",
      "•  You need only one version of your software to serve a broad market.\n",
      "\n",
      "•  The Internet, in effect, becomes one giant, dynamic library.\n",
      "\n",
      "•  You are no longer limited by your particular computer platform.\n",
      "\n",
      "Three features make Java String programs portable:\n",
      "\n",
      "1.  The language. The Java language is completely specified; all data-type sizes and\n",
      "\n",
      "formats are defined as part of the language. By contrast, C/C++ leaves these\n",
      "\"details\" up to the compiler implementor, and many C/C++ program\n"
     ]
    }
   ],
   "source": [
    "print(extracted_text[:1000])"
   ]
  },
  {
   "cell_type": "markdown",
   "metadata": {},
   "source": [
    "## Preprocessing Text"
   ]
  },
  {
   "cell_type": "code",
   "execution_count": 35,
   "metadata": {
    "collapsed": true
   },
   "outputs": [],
   "source": [
    "def preprocess_text(text):\n",
    "    tokens = word_tokenize(text)\n",
    "    words = []\n",
    "    for word in tokens:\n",
    "        # Replace non-alpha character with space\n",
    "        word = re.sub('[^A-Za-z]+', ' ', word)\n",
    "        words.append(word.lower())\n",
    "    return \" \".join(words)"
   ]
  },
  {
   "cell_type": "code",
   "execution_count": 36,
   "metadata": {},
   "outputs": [
    {
     "data": {
      "text/plain": [
       "'java basics java basics topics in this section include     what makes java programs portable   secure   and robust   the structure of java applets and applications   how java applications are executed   how applets are invoked and executed   the java language   part i   comments   declarations   expressions   statements   garbage collection   java semantics portability java programs are portable across operating systems and hardware environments   portability is to your advantage because     you need only one version of your software to serve a broad market     the internet   in effect   becomes one giant   dynamic library     you are no longer limited by your particular computer platform   three features make java string programs portable       the language   the java language is completely specified   all data type sizes and formats are defined as part of the language   by contrast   c c  leaves these   details   up to the compiler implementor   and many c c  programs therefore     jguru com   all rights reserved   java basics   java basics are not portable       the library   the java class library is available on any machine with a java runtime system   because a portable program is of no use if you can not use the same class library on every platform   window manager function calls in a mac application written in c c    for example   do not port well to a pc       the byte code   the java runtime system does not compile your source code directly int'"
      ]
     },
     "execution_count": 36,
     "metadata": {},
     "output_type": "execute_result"
    }
   ],
   "source": [
    "preprocess_text(extracted_text[:1502])"
   ]
  },
  {
   "cell_type": "code",
   "execution_count": 37,
   "metadata": {
    "collapsed": true,
    "scrolled": true
   },
   "outputs": [],
   "source": [
    "# NLTK Stop words \n",
    "stop_words = stopwords.words('english')"
   ]
  },
  {
   "cell_type": "code",
   "execution_count": 38,
   "metadata": {
    "collapsed": true
   },
   "outputs": [],
   "source": [
    "# Some extra Stop words like text in Header and Footer of every page\n",
    "stop_words.extend([\"java\", \"jguru\", \"com\", \"all\", \"rights\",\n",
    "                   \"reserved\", \"etc\", \"abc\", \"hello\",\n",
    "                   \"world\", \"www\", \"blah\"])"
   ]
  },
  {
   "cell_type": "markdown",
   "metadata": {},
   "source": [
    "## Keyword Extraction"
   ]
  },
  {
   "cell_type": "code",
   "execution_count": 39,
   "metadata": {
    "collapsed": true
   },
   "outputs": [],
   "source": [
    "vectorizer = TfidfVectorizer(#max_features = 500, \n",
    "                             stop_words = stop_words, \n",
    "                             preprocessor=preprocess_text)\n",
    "X = vectorizer.fit_transform([extracted_text])\n",
    "words = vectorizer.get_feature_names()\n",
    "weights = X.toarray()"
   ]
  },
  {
   "cell_type": "code",
   "execution_count": 40,
   "metadata": {
    "scrolled": false
   },
   "outputs": [
    {
     "data": {
      "text/plain": [
       "array([0.36045293, 0.30231536, 0.27324658, 0.24999155, 0.24999155,\n",
       "       0.23836404, 0.22673652, 0.20348149, 0.16859895, 0.1627852 ,\n",
       "       0.15115768, 0.14534392, 0.13371641, 0.13371641, 0.11046138,\n",
       "       0.09302011, 0.08720635, 0.08720635, 0.08720635, 0.08720635,\n",
       "       0.08720635, 0.0813926 , 0.0813926 , 0.0813926 , 0.07557884,\n",
       "       0.06976508, 0.06976508, 0.06976508, 0.06395133, 0.06395133,\n",
       "       0.05813757, 0.05813757, 0.05813757, 0.05813757, 0.05813757,\n",
       "       0.05813757, 0.05813757, 0.05232381, 0.05232381, 0.05232381,\n",
       "       0.05232381, 0.05232381, 0.05232381, 0.05232381, 0.05232381,\n",
       "       0.05232381, 0.05232381, 0.05232381, 0.05232381, 0.05232381,\n",
       "       0.04651006, 0.04651006, 0.04651006, 0.04651006, 0.04651006,\n",
       "       0.04651006, 0.04651006, 0.04651006, 0.0406963 , 0.0406963 ,\n",
       "       0.0406963 , 0.0406963 , 0.0406963 , 0.0406963 , 0.0406963 ,\n",
       "       0.03488254, 0.03488254, 0.03488254, 0.03488254, 0.03488254,\n",
       "       0.03488254, 0.03488254, 0.03488254, 0.03488254, 0.03488254,\n",
       "       0.03488254, 0.03488254, 0.03488254, 0.02906878, 0.02906878,\n",
       "       0.02906878, 0.02906878, 0.02906878, 0.02906878, 0.02906878,\n",
       "       0.02906878, 0.02906878, 0.02906878, 0.02906878, 0.02906878,\n",
       "       0.02906878, 0.02906878, 0.02906878, 0.02906878, 0.02906878,\n",
       "       0.02906878, 0.02325503, 0.02325503, 0.02325503, 0.02325503,\n",
       "       0.02325503, 0.02325503, 0.02325503, 0.02325503, 0.02325503,\n",
       "       0.02325503, 0.02325503, 0.02325503, 0.02325503, 0.02325503,\n",
       "       0.02325503, 0.02325503, 0.02325503, 0.02325503, 0.02325503,\n",
       "       0.02325503, 0.02325503, 0.02325503, 0.02325503, 0.02325503,\n",
       "       0.02325503, 0.02325503, 0.02325503, 0.02325503, 0.02325503,\n",
       "       0.02325503, 0.02325503, 0.02325503, 0.02325503, 0.02325503,\n",
       "       0.02325503, 0.02325503, 0.02325503, 0.01744127, 0.01744127,\n",
       "       0.01744127, 0.01744127, 0.01744127, 0.01744127, 0.01744127,\n",
       "       0.01744127, 0.01744127, 0.01744127, 0.01744127, 0.01744127,\n",
       "       0.01744127, 0.01744127, 0.01744127, 0.01744127, 0.01744127,\n",
       "       0.01744127, 0.01744127, 0.01744127, 0.01744127, 0.01744127,\n",
       "       0.01744127, 0.01744127, 0.01744127, 0.01744127, 0.01744127,\n",
       "       0.01744127, 0.01744127, 0.01744127, 0.01744127, 0.01744127,\n",
       "       0.01744127, 0.01744127, 0.01744127, 0.01744127, 0.01744127,\n",
       "       0.01744127, 0.01744127, 0.01744127, 0.01744127, 0.01744127,\n",
       "       0.01744127, 0.01744127, 0.01744127, 0.01744127, 0.01744127,\n",
       "       0.01744127, 0.01744127, 0.01744127, 0.01744127, 0.01744127,\n",
       "       0.01744127, 0.01744127, 0.01744127, 0.01744127, 0.01744127,\n",
       "       0.01744127, 0.01744127, 0.01744127, 0.01744127, 0.01744127,\n",
       "       0.01744127, 0.01744127, 0.01744127, 0.01744127, 0.01744127])"
      ]
     },
     "execution_count": 40,
     "metadata": {},
     "output_type": "execute_result"
    }
   ],
   "source": [
    "ordered_weights = weights[0][(np.argsort(-weights[0]))]\n",
    "ordered_weights[:200]"
   ]
  },
  {
   "cell_type": "code",
   "execution_count": 41,
   "metadata": {
    "scrolled": false
   },
   "outputs": [
    {
     "data": {
      "text/plain": [
       "array(['data', 'new', 'basics', 'int', 'button', 'code', 'applet',\n",
       "       'class', 'method', 'object', 'array', 'objects', 'string',\n",
       "       'public', 'example', 'null', 'return', 'types', 'language', 'use',\n",
       "       'memory', 'void', 'primitive', 'comments', 'system', 'program',\n",
       "       'browser', 'may', 'allocate', 'garbage', 'pointer', 'following',\n",
       "       'runtime', 'would', 'stack', 'applets', 'methods', 'collection',\n",
       "       'init', 'value', 'make', 'byte', 'reference', 'operator',\n",
       "       'boolean', 'expr', 'file', 'applications', 'called', 'two', 'type',\n",
       "       'constant', 'style', 'programs', 'stat', 'variables', 'element',\n",
       "       'main', 'pointers', 'parameters', 'ok', 'bits', 'one', 'args',\n",
       "       'arrays', 'integer', 'statements', 'calloc', 'literal', 'width',\n",
       "       'refer', 'strings', 'note', 'heap', 'semantics', 'sizeof', 'true',\n",
       "       'equivalent', 'predefined', 'used', 'passed', 'source', 'elements',\n",
       "       'portable', 'platform', 'id', 'import', 'threads', 'executed',\n",
       "       'instance', 'expressions', 'length', 'buttons', 'similar', 'using',\n",
       "       'static', 'compiler', 'definition', 'definitions', 'foo',\n",
       "       'machine', 'therefore', 'animations', 'ints', 'create', 'start',\n",
       "       'tag', 'consider', 'copy', 'const', 'stop', 'println', 'library',\n",
       "       'test', 'allocates', 'makes', 'defined', 'write', 'operators',\n",
       "       'simple', 'final', 'getparameter', 'false', 'need', 'graphics',\n",
       "       'effect', 'must', 'version', 'execution', 'clone', 'else',\n",
       "       'comment', 'however', 'float', 'arithmetic', 'structure', 'html',\n",
       "       'bfoo', 'first', 'description', 'destroy', 'defines', 'either',\n",
       "       'easily', 'application', 'function', 'appletviewer', 'every',\n",
       "       'drawn', 'extends', 'height', 'equals', 'gui', 'exception',\n",
       "       'statement', 'dispose', 'reside', 'resources', 'double', 'include',\n",
       "       'examples', 'references', 'define', 'super', 'default', 'assigned',\n",
       "       'look', 'loop', 'compilation', 'messages', 'window', 'collector',\n",
       "       'trivialapplication', 'classes', 'automatic', 'line', 'name',\n",
       "       'automatically', 'parameter', 'param', 'awt', 'call', 'paint',\n",
       "       'typename', 'output', 'nothing', 'obj', 'within', 'like', 'point',\n",
       "       'shows', 'push', 'programming', 'creates', 'contrast', 'always',\n",
       "       'item', 'quit', 'variable', 'convert'], dtype='<U30')"
      ]
     },
     "execution_count": 41,
     "metadata": {},
     "output_type": "execute_result"
    }
   ],
   "source": [
    "weight_ordered_words = np.array(words)[np.argsort(-weights[0])]\n",
    "weight_ordered_words[:200]"
   ]
  },
  {
   "cell_type": "markdown",
   "metadata": {},
   "source": [
    "## DataFrame"
   ]
  },
  {
   "cell_type": "code",
   "execution_count": 48,
   "metadata": {},
   "outputs": [
    {
     "data": {
      "text/html": [
       "<div>\n",
       "<style>\n",
       "    .dataframe thead tr:only-child th {\n",
       "        text-align: right;\n",
       "    }\n",
       "\n",
       "    .dataframe thead th {\n",
       "        text-align: left;\n",
       "    }\n",
       "\n",
       "    .dataframe tbody tr th {\n",
       "        vertical-align: top;\n",
       "    }\n",
       "</style>\n",
       "<table border=\"1\" class=\"dataframe\">\n",
       "  <thead>\n",
       "    <tr style=\"text-align: right;\">\n",
       "      <th></th>\n",
       "      <th>words</th>\n",
       "      <th>weight</th>\n",
       "    </tr>\n",
       "  </thead>\n",
       "  <tbody>\n",
       "    <tr>\n",
       "      <th>0</th>\n",
       "      <td>data</td>\n",
       "      <td>0.360453</td>\n",
       "    </tr>\n",
       "    <tr>\n",
       "      <th>1</th>\n",
       "      <td>new</td>\n",
       "      <td>0.302315</td>\n",
       "    </tr>\n",
       "    <tr>\n",
       "      <th>2</th>\n",
       "      <td>basics</td>\n",
       "      <td>0.273247</td>\n",
       "    </tr>\n",
       "    <tr>\n",
       "      <th>3</th>\n",
       "      <td>int</td>\n",
       "      <td>0.249992</td>\n",
       "    </tr>\n",
       "    <tr>\n",
       "      <th>4</th>\n",
       "      <td>button</td>\n",
       "      <td>0.249992</td>\n",
       "    </tr>\n",
       "    <tr>\n",
       "      <th>5</th>\n",
       "      <td>code</td>\n",
       "      <td>0.238364</td>\n",
       "    </tr>\n",
       "    <tr>\n",
       "      <th>6</th>\n",
       "      <td>applet</td>\n",
       "      <td>0.226737</td>\n",
       "    </tr>\n",
       "    <tr>\n",
       "      <th>7</th>\n",
       "      <td>class</td>\n",
       "      <td>0.203481</td>\n",
       "    </tr>\n",
       "    <tr>\n",
       "      <th>8</th>\n",
       "      <td>method</td>\n",
       "      <td>0.168599</td>\n",
       "    </tr>\n",
       "    <tr>\n",
       "      <th>9</th>\n",
       "      <td>object</td>\n",
       "      <td>0.162785</td>\n",
       "    </tr>\n",
       "    <tr>\n",
       "      <th>10</th>\n",
       "      <td>array</td>\n",
       "      <td>0.151158</td>\n",
       "    </tr>\n",
       "    <tr>\n",
       "      <th>11</th>\n",
       "      <td>objects</td>\n",
       "      <td>0.145344</td>\n",
       "    </tr>\n",
       "    <tr>\n",
       "      <th>12</th>\n",
       "      <td>string</td>\n",
       "      <td>0.133716</td>\n",
       "    </tr>\n",
       "    <tr>\n",
       "      <th>13</th>\n",
       "      <td>public</td>\n",
       "      <td>0.133716</td>\n",
       "    </tr>\n",
       "    <tr>\n",
       "      <th>14</th>\n",
       "      <td>example</td>\n",
       "      <td>0.110461</td>\n",
       "    </tr>\n",
       "  </tbody>\n",
       "</table>\n",
       "</div>"
      ],
      "text/plain": [
       "      words    weight\n",
       "0      data  0.360453\n",
       "1       new  0.302315\n",
       "2    basics  0.273247\n",
       "3       int  0.249992\n",
       "4    button  0.249992\n",
       "5      code  0.238364\n",
       "6    applet  0.226737\n",
       "7     class  0.203481\n",
       "8    method  0.168599\n",
       "9    object  0.162785\n",
       "10    array  0.151158\n",
       "11  objects  0.145344\n",
       "12   string  0.133716\n",
       "13   public  0.133716\n",
       "14  example  0.110461"
      ]
     },
     "execution_count": 48,
     "metadata": {},
     "output_type": "execute_result"
    }
   ],
   "source": [
    "d = {\"words\": weight_ordered_words, \"weight\": ordered_weights}\n",
    "\n",
    "df = pd.DataFrame(data = d, columns = [\"words\", \"weight\"])\n",
    "\n",
    "# Top 15 words\n",
    "df.head(15)"
   ]
  },
  {
   "cell_type": "markdown",
   "metadata": {},
   "source": [
    "### Convert DataFrame to csv"
   ]
  },
  {
   "cell_type": "code",
   "execution_count": 43,
   "metadata": {
    "collapsed": true
   },
   "outputs": [],
   "source": [
    "df.to_csv(\"keywords.csv\", encoding='utf-8', index=False)"
   ]
  }
 ],
 "metadata": {
  "kernelspec": {
   "display_name": "Python 3",
   "language": "python",
   "name": "python3"
  }
 },
 "nbformat": 4,
 "nbformat_minor": 2
}
